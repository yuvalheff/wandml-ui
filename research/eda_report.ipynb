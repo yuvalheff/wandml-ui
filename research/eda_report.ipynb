{
 "cells": [
  {
   "cell_type": "markdown",
   "metadata": {},
   "source": [
    "# Iris Species Classification - Exploratory Data Analysis\n",
    "\n",
    "This notebook contains exploratory data analysis for the Iris dataset classification task."
   ]
  },
  {
   "cell_type": "code",
   "execution_count": null,
   "metadata": {},
   "outputs": [],
   "source": [
    "import pandas as pd\n",
    "import numpy as np\n",
    "import plotly.express as px\n",
    "import plotly.graph_objects as go\n",
    "from plotly.subplots import make_subplots\n",
    "import os"
   ]
  },
  {
   "cell_type": "code",
   "execution_count": null,
   "metadata": {},
   "outputs": [],
   "source": [
    "# Load the dataset\n",
    "df = pd.read_csv('/Users/yuvalheffetz/ds-agent-projects/session_d4b0eb9f-8fbe-4190-b004-6f780e178fe3/data/train_set.csv')\n",
    "print(f\"Dataset shape: {df.shape}\")\n",
    "print(f\"\\nDataset info:\")\n",
    "df.info()\n",
    "print(f\"\\nFirst few rows:\")\n",
    "df.head()"
   ]
  },
  {
   "cell_type": "code",
   "execution_count": null,
   "metadata": {},
   "outputs": [],
   "source": [
    "# Basic dataset statistics\n",
    "print(\"Dataset Statistics:\")\n",
    "print(df.describe())\n",
    "print(f\"\\nTarget variable distribution:\")\n",
    "print(df['Species'].value_counts())\n",
    "print(f\"\\nMissing values:\")\n",
    "print(df.isnull().sum())"
   ]
  },
  {
   "cell_type": "code",
   "execution_count": null,
   "metadata": {},
   "outputs": [],
   "source": [
    "# Define color palette for consistent styling\n",
    "app_color_palette = [\n",
    "    'rgba(99, 110, 250, 0.8)',   # Blue\n",
    "    'rgba(239, 85, 59, 0.8)',    # Red/Orange-Red\n",
    "    'rgba(0, 204, 150, 0.8)',    # Green\n",
    "    'rgba(171, 99, 250, 0.8)',   # Purple\n",
    "    'rgba(255, 161, 90, 0.8)',   # Orange\n",
    "    'rgba(25, 211, 243, 0.8)',   # Cyan\n",
    "    'rgba(255, 102, 146, 0.8)',  # Pink\n",
    "    'rgba(182, 232, 128, 0.8)',  # Light Green\n",
    "    'rgba(255, 151, 255, 0.8)',  # Magenta\n",
    "    'rgba(254, 203, 82, 0.8)'    # Yellow\n",
    "]"
   ]
  },
  {
   "cell_type": "markdown",
   "metadata": {},
   "source": [
    "## EDA Step: Feature Distribution Analysis\n",
    "\n",
    "Let's create a comprehensive view of all numerical features and their distributions across the three iris species."
   ]
  },
  {
   "cell_type": "code",
   "execution_count": null,
   "metadata": {},
   "outputs": [],
   "source": [
    "# Create subplots for all four features\n",
    "feature_cols = ['SepalLengthCm', 'SepalWidthCm', 'PetalLengthCm', 'PetalWidthCm']\n",
    "\n",
    "fig = make_subplots(\n",
    "    rows=2, cols=2,\n",
    "    subplot_titles=feature_cols,\n",
    "    specs=[[{\"secondary_y\": False}, {\"secondary_y\": False}],\n",
    "           [{\"secondary_y\": False}, {\"secondary_y\": False}]]\n",
    ")\n",
    "\n",
    "# Color mapping for species\n",
    "species_colors = {\n",
    "    'Iris-setosa': app_color_palette[0],     # Blue\n",
    "    'Iris-versicolor': app_color_palette[1], # Red/Orange\n",
    "    'Iris-virginica': app_color_palette[2]   # Green\n",
    "}\n",
    "\n",
    "positions = [(1, 1), (1, 2), (2, 1), (2, 2)]\n",
    "\n",
    "for i, feature in enumerate(feature_cols):\n",
    "    row, col = positions[i]\n",
    "    \n",
    "    for species in df['Species'].unique():\n",
    "        species_data = df[df['Species'] == species][feature]\n",
    "        \n",
    "        fig.add_trace(\n",
    "            go.Histogram(\n",
    "                x=species_data,\n",
    "                name=species,\n",
    "                marker_color=species_colors[species],\n",
    "                opacity=0.7,\n",
    "                nbinsx=15,\n",
    "                showlegend=(i == 0)  # Only show legend for first subplot\n",
    "            ),\n",
    "            row=row, col=col\n",
    "        )\n",
    "\n",
    "# Update layout\n",
    "fig.update_layout(\n",
    "    height=600,\n",
    "    paper_bgcolor='rgba(0,0,0,0)',\n",
    "    plot_bgcolor='rgba(0,0,0,0)',\n",
    "    font=dict(color='#8B5CF6', size=12),\n",
    "    title_font=dict(color='#7C3AED', size=16),\n",
    "    barmode='overlay',\n",
    "    legend=dict(font=dict(color='#8B5CF6', size=11))\n",
    ")\n",
    "\n",
    "# Update axes\n",
    "for i in range(1, 5):\n",
    "    fig.update_xaxes(\n",
    "        gridcolor='rgba(139,92,246,0.2)',\n",
    "        zerolinecolor='rgba(139,92,246,0.3)',\n",
    "        tickfont=dict(color='#8B5CF6', size=10),\n",
    "        title_font=dict(color='#7C3AED', size=11),\n",
    "        row=(i-1)//2 + 1, col=(i-1)%2 + 1\n",
    "    )\n",
    "    fig.update_yaxes(\n",
    "        gridcolor='rgba(139,92,246,0.2)',\n",
    "        zerolinecolor='rgba(139,92,246,0.3)',\n",
    "        tickfont=dict(color='#8B5CF6', size=10),\n",
    "        title_font=dict(color='#7C3AED', size=11),\n",
    "        row=(i-1)//2 + 1, col=(i-1)%2 + 1\n",
    "    )\n",
    "\n",
    "fig.show()\n",
    "\n",
    "# Save the plot\n",
    "fig.write_html(\"/Users/yuvalheffetz/ds-agent-projects/session_d4b0eb9f-8fbe-4190-b004-6f780e178fe3/research/plots/feature_distributions.html\", \n",
    "               include_plotlyjs=True, \n",
    "               config={'responsive': True, 'displayModeBar': False})\n",
    "\n",
    "print(\"Feature distributions plot saved successfully!\")"
   ]
  }
 ],
 "metadata": {
  "kernelspec": {
   "display_name": "Python 3",
   "language": "python",
   "name": "python3"
  },
  "language_info": {
   "codemirror_mode": {
    "name": "ipython",
    "version": 3
   },
   "file_extension": ".py",
   "mimetype": "text/x-python",
   "name": "python",
   "nbconvert_exporter": "python",
   "pygments_lexer": "ipython3",
   "version": "3.8.0"
  }
 },
 "nbformat": 4,
 "nbformat_minor": 4
}